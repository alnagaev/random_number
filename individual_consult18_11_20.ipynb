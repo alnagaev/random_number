{
  "nbformat": 4,
  "nbformat_minor": 0,
  "metadata": {
    "colab": {
      "name": "individual_consult18_11_20.ipynb",
      "provenance": []
    },
    "kernelspec": {
      "name": "python3",
      "display_name": "Python 3"
    }
  },
  "cells": [
    {
      "cell_type": "code",
      "metadata": {
        "id": "x8hgTzgSDlPK"
      },
      "source": [
        "import numpy as np\n",
        "from math import ceil\n",
        "count = 0                            # счетчик попыток\n",
        "number = np.random.randint(1,101) \n",
        "number = 37   # загадали число\n",
        "print (\"Загадано число от 1 до 100\")\n",
        "\n",
        "while True:                        # бесконечный цикл\n",
        "    predict = int(input())         # предполагаемое число\n",
        "    count += 1                     # плюсуем попытку\n",
        "    if number == predict: break    # выход из цикла, если угадали\n",
        "    elif number > predict: print (f\"Угадываемое число больше {predict} \")\n",
        "    elif number < predict: print (f\"Угадываемое число меньше {predict} \")\n",
        "        \n",
        "print (f\"Вы угадали число {number} за {count} попыток.\")"
      ],
      "execution_count": null,
      "outputs": []
    },
    {
      "cell_type": "code",
      "metadata": {
        "id": "5Gm7o288F_QB"
      },
      "source": [
        "def game_core_v1(number):\n",
        "    '''Просто угадываем на random, никак не используя информацию о больше или меньше.\n",
        "       Функция принимает загаданное число и возвращает число попыток'''\n",
        "    count = 0\n",
        "    while True:\n",
        "        count+=1\n",
        "        predict = np.random.randint(1,101) # предполагаемое число\n",
        "        if number == predict: \n",
        "            return(count) # выход из цикла, если угадали\n",
        "        \n",
        "        \n",
        "def score_game(game_core):\n",
        "    '''Запускаем игру 1000 раз, чтобы узнать, как быстро игра угадывает число'''\n",
        "    count_ls = []\n",
        "    np.random.seed(1)  # фиксируем RANDOM SEED, чтобы ваш эксперимент был воспроизводим!\n",
        "    #https://pyprog.pro/random_sampling_functions/seed.html\n",
        "    random_array = np.random.randint(1,101, size=(1000))\n",
        "    for number in random_array:\n",
        "        count_ls.append(game_core(number))\n",
        "    score = int(np.mean(count_ls))\n",
        "    print(f\"Ваш алгоритм угадывает число в среднем за {score} попыток\")\n",
        "    return score\n",
        "\n",
        "\n",
        "def game_core_v2(number):\n",
        "    '''Сначала устанавливаем любое random число, а потом уменьшаем или увеличиваем его в зависимости от того, больше оно или меньше нужного.\n",
        "       Функция принимает загаданное число и возвращает число попыток'''\n",
        "    count = 1\n",
        "    predict = np.random.randint(1,101)\n",
        "    while number != predict:\n",
        "        count+=1\n",
        "        if number > predict: \n",
        "            predict += 1\n",
        "        elif number < predict: \n",
        "            predict -= 1\n",
        "    return(count) # выход из цикла, если угадали\n",
        "\n",
        "\n",
        "\n",
        "def game_core_v3(number):\n",
        "  \"\"\"Попробуем применить хитрость\"\"\" \n",
        "  count = 1\n",
        "  length = 100\n",
        "  predict = length/2\n",
        "  counter = 0\n",
        "  verh = length\n",
        "  niz = 0\n",
        "  while number != predict:\n",
        "    count += 1\n",
        "    counter +=1\n",
        "    if counter == 10:break\n",
        "    if number > predict:\n",
        "      niz = predict\n",
        "      predict = ceil((niz + verh)/2)\n",
        "      \n",
        "    else:\n",
        "      verh = predict\n",
        "      predict = ceil((niz + verh)/2)\n",
        "    print(number, niz, verh, predict)\n",
        "  return count\n",
        "  \n",
        "print(game_core_v3(37))\n"
      ],
      "execution_count": null,
      "outputs": []
    }
  ]
}